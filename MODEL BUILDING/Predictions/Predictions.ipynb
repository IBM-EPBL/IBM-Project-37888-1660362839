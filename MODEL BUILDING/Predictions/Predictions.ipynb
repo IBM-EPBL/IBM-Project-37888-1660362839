{
  "nbformat": 4,
  "nbformat_minor": 0,
  "metadata": {
    "colab": {
      "provenance": []
    },
    "kernelspec": {
      "name": "python3",
      "display_name": "Python 3"
    },
    "language_info": {
      "name": "python"
    }
  },
  "cells": [
    {
      "cell_type": "markdown",
      "source": [
        "# Importing Keras libraries"
      ],
      "metadata": {
        "id": "gxVrCYn8IZ46"
      }
    },
    {
      "cell_type": "code",
      "source": [
        "import keras"
      ],
      "metadata": {
        "id": "5t_OcZWWIeXd"
      },
      "execution_count": 1,
      "outputs": []
    },
    {
      "cell_type": "markdown",
      "source": [
        "# Importing ImageDataGenerator from Keras"
      ],
      "metadata": {
        "id": "bJ_bdyEGIpH7"
      }
    },
    {
      "cell_type": "code",
      "source": [
        "from matplotlib import pyplot as plt\n",
        "from keras.preprocessing.image import ImageDataGenerator"
      ],
      "metadata": {
        "id": "oKIlyrBgIrsS"
      },
      "execution_count": 2,
      "outputs": []
    },
    {
      "cell_type": "markdown",
      "source": [
        "# Defining the Parameters"
      ],
      "metadata": {
        "id": "vHI_7yuRIvev"
      }
    },
    {
      "cell_type": "code",
      "source": [
        "train_datagen=ImageDataGenerator(rescale=1./255,shear_range=0.2,rotation_range=180,zoom_range=0.2,horizontal_flip=True)\n",
        "test_datagen=ImageDataGenerator(rescale=1./255)"
      ],
      "metadata": {
        "id": "xlqdioJQI6DG"
      },
      "execution_count": 3,
      "outputs": []
    },
    {
      "cell_type": "markdown",
      "source": [
        "# Applying ImageDataGenerator functionality to train dataset"
      ],
      "metadata": {
        "id": "MtwpCsmSJBM7"
      }
    },
    {
      "cell_type": "code",
      "source": [
        "x_train=train_datagen.flow_from_directory('/content/drive/MyDrive/NT/Dataset/train_set',target_size=(128,128),batch_size=32,class_mode='binary')"
      ],
      "metadata": {
        "colab": {
          "base_uri": "https://localhost:8080/"
        },
        "id": "8u4M59xGJDFx",
        "outputId": "faa4ad4c-3dbc-4686-97e4-736e231ddb6b"
      },
      "execution_count": 5,
      "outputs": [
        {
          "output_type": "stream",
          "name": "stdout",
          "text": [
            "Found 676 images belonging to 2 classes.\n"
          ]
        }
      ]
    },
    {
      "cell_type": "markdown",
      "source": [
        "# Applying ImageDataGenerator functionality to test dataset"
      ],
      "metadata": {
        "id": "EV7a20cMJ9hz"
      }
    },
    {
      "cell_type": "code",
      "source": [
        "x_test=test_datagen.flow_from_directory('/content/drive/MyDrive/NT/Dataset/test_set',target_size=(128,128),batch_size=32,class_mode='binary')"
      ],
      "metadata": {
        "colab": {
          "base_uri": "https://localhost:8080/"
        },
        "id": "aXndOxmCJ_H_",
        "outputId": "43ef76d0-69bd-4b47-8460-9e7f01472298"
      },
      "execution_count": 6,
      "outputs": [
        {
          "output_type": "stream",
          "name": "stdout",
          "text": [
            "Found 121 images belonging to 2 classes.\n"
          ]
        }
      ]
    },
    {
      "cell_type": "markdown",
      "source": [
        "# Importing Model Building Libraries"
      ],
      "metadata": {
        "id": "s63DbxrEKbP2"
      }
    },
    {
      "cell_type": "code",
      "source": [
        "#to define the linear Initialisation import sequential\n",
        "from keras.models import Sequential\n",
        "#to add layers import Dense\n",
        "from keras.layers import Dense\n",
        "#to create Convolutional kernel import convolution2D\n",
        "from keras.layers import Convolution2D\n",
        "#import Maxpooling layer \n",
        "from keras.layers import MaxPooling2D\n",
        "#import flatten layer\n",
        "from keras.layers import Flatten\n",
        "import warnings\n",
        "warnings.filterwarnings('ignore')"
      ],
      "metadata": {
        "id": "yqS7DDSCKjFK"
      },
      "execution_count": 7,
      "outputs": []
    },
    {
      "cell_type": "markdown",
      "source": [
        "# Initializing the model"
      ],
      "metadata": {
        "id": "RPeaH1-wKpGO"
      }
    },
    {
      "cell_type": "code",
      "source": [
        "model=Sequential()"
      ],
      "metadata": {
        "id": "DxQwlj1TKs_l"
      },
      "execution_count": 8,
      "outputs": []
    },
    {
      "cell_type": "markdown",
      "source": [
        "# Adding CNN Layers"
      ],
      "metadata": {
        "id": "_zAAb9saKydq"
      }
    },
    {
      "cell_type": "code",
      "source": [
        "model.add(Convolution2D(32,(3,3),input_shape=(128,128,3),activation='relu'))\n",
        "#add maxpooling layers\n",
        "model.add(MaxPooling2D(pool_size=(2,2)))\n",
        "#add faltten layer\n",
        "model.add(Flatten())"
      ],
      "metadata": {
        "id": "DuhIYHsvK1TT"
      },
      "execution_count": 9,
      "outputs": []
    },
    {
      "cell_type": "markdown",
      "source": [
        "# Add Dense layers"
      ],
      "metadata": {
        "id": "CpTgKyKeK5R_"
      }
    },
    {
      "cell_type": "code",
      "source": [
        "#add hidden layers\n",
        "model.add(Dense(150,activation='relu'))\n",
        "#add output layer\n",
        "model.add(Dense(1,activation='sigmoid'))"
      ],
      "metadata": {
        "id": "SAt5qbDUK9OW"
      },
      "execution_count": 10,
      "outputs": []
    },
    {
      "cell_type": "markdown",
      "source": [
        "# configuring the learning process"
      ],
      "metadata": {
        "id": "0nECHavdMMCk"
      }
    },
    {
      "cell_type": "code",
      "source": [
        "model.compile(loss='binary_crossentropy',optimizer=\"adam\",metrics=[\"accuracy\"])"
      ],
      "metadata": {
        "id": "novNYvaYMSov"
      },
      "execution_count": 11,
      "outputs": []
    },
    {
      "cell_type": "markdown",
      "source": [
        "# Training the model"
      ],
      "metadata": {
        "id": "KtlSSP7ZMVAr"
      }
    },
    {
      "cell_type": "code",
      "source": [
        "model.fit_generator(x_train,steps_per_epoch=14,epochs=10,validation_data=x_test,validation_steps=4)"
      ],
      "metadata": {
        "colab": {
          "base_uri": "https://localhost:8080/"
        },
        "id": "nQy8oAXqMiqj",
        "outputId": "49465abe-16db-48af-fb94-f2761fef4c3f"
      },
      "execution_count": 14,
      "outputs": [
        {
          "output_type": "stream",
          "name": "stdout",
          "text": [
            "Epoch 1/10\n",
            "14/14 [==============================] - 55s 4s/step - loss: 0.3851 - accuracy: 0.8103 - val_loss: 0.0944 - val_accuracy: 0.9587\n",
            "Epoch 2/10\n",
            "14/14 [==============================] - 28s 2s/step - loss: 0.2173 - accuracy: 0.9062 - val_loss: 0.0876 - val_accuracy: 0.9752\n",
            "Epoch 3/10\n",
            "14/14 [==============================] - 28s 2s/step - loss: 0.1994 - accuracy: 0.9048 - val_loss: 0.1158 - val_accuracy: 0.9504\n",
            "Epoch 4/10\n",
            "14/14 [==============================] - 26s 2s/step - loss: 0.1960 - accuracy: 0.9018 - val_loss: 0.1026 - val_accuracy: 0.9504\n",
            "Epoch 5/10\n",
            "14/14 [==============================] - 28s 2s/step - loss: 0.2085 - accuracy: 0.8884 - val_loss: 0.1455 - val_accuracy: 0.9091\n",
            "Epoch 6/10\n",
            "14/14 [==============================] - 25s 2s/step - loss: 0.1805 - accuracy: 0.9262 - val_loss: 0.1136 - val_accuracy: 0.9339\n",
            "Epoch 7/10\n",
            "14/14 [==============================] - 29s 2s/step - loss: 0.1888 - accuracy: 0.9062 - val_loss: 0.0730 - val_accuracy: 0.9752\n",
            "Epoch 8/10\n",
            "14/14 [==============================] - 27s 2s/step - loss: 0.1628 - accuracy: 0.9262 - val_loss: 0.0666 - val_accuracy: 0.9835\n",
            "Epoch 9/10\n",
            "14/14 [==============================] - 29s 2s/step - loss: 0.1504 - accuracy: 0.9464 - val_loss: 0.0924 - val_accuracy: 0.9752\n",
            "Epoch 10/10\n",
            "14/14 [==============================] - 26s 2s/step - loss: 0.1623 - accuracy: 0.9262 - val_loss: 0.0781 - val_accuracy: 0.9752\n"
          ]
        },
        {
          "output_type": "execute_result",
          "data": {
            "text/plain": [
              "<keras.callbacks.History at 0x7fdd513dcd90>"
            ]
          },
          "metadata": {},
          "execution_count": 14
        }
      ]
    },
    {
      "cell_type": "code",
      "source": [
        "model.save(\"forest.h5\")"
      ],
      "metadata": {
        "id": "K8dieWTEMs-2"
      },
      "execution_count": 15,
      "outputs": []
    },
    {
      "cell_type": "markdown",
      "source": [
        "# Predictions"
      ],
      "metadata": {
        "id": "HNuT8H5HOida"
      }
    },
    {
      "cell_type": "code",
      "source": [
        "#import load model from keras.model\n",
        "from keras.models import load_model\n",
        "#import image from keras\n",
        "from tensorflow.keras.preprocessing import image\n",
        "import numpy as np\n",
        "#import cv2\n",
        "import cv2\n",
        "#load the saved model\n",
        "model=load_model('forest.h5')\n",
        "img=image.load_img('/content/drive/MyDrive/NT/Dataset/test_set/forest/1170x500_Ireland_web.jpg')\n",
        "x=image.img_to_array(img)\n",
        "res=cv2.resize(x,dsize=(128,128),interpolation=cv2.INTER_CUBIC)\n",
        "#expand the image shape\n",
        "x=np.expand_dims(res,axis=0)"
      ],
      "metadata": {
        "id": "BivG637XOksh"
      },
      "execution_count": 18,
      "outputs": []
    },
    {
      "cell_type": "code",
      "source": [
        "pred=model.predict(x)"
      ],
      "metadata": {
        "colab": {
          "base_uri": "https://localhost:8080/"
        },
        "id": "MIM2nsxRPGCN",
        "outputId": "d463511d-da61-4b96-db2e-380224f5cee1"
      },
      "execution_count": 19,
      "outputs": [
        {
          "output_type": "stream",
          "name": "stdout",
          "text": [
            "1/1 [==============================] - 0s 125ms/step\n"
          ]
        }
      ]
    },
    {
      "cell_type": "code",
      "source": [
        "pred"
      ],
      "metadata": {
        "id": "bHE1Dr87PLFX",
        "outputId": "cb2a46dc-7b7b-4f00-c33a-c9360b47a5d8",
        "colab": {
          "base_uri": "https://localhost:8080/"
        }
      },
      "execution_count": 20,
      "outputs": [
        {
          "output_type": "execute_result",
          "data": {
            "text/plain": [
              "array([[0.]], dtype=float32)"
            ]
          },
          "metadata": {},
          "execution_count": 20
        }
      ]
    }
  ]
}