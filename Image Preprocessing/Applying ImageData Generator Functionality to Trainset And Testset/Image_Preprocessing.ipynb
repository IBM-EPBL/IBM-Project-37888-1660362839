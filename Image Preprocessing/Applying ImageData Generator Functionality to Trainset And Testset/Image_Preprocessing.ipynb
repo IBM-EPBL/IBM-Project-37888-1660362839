{
  "nbformat": 4,
  "nbformat_minor": 0,
  "metadata": {
    "colab": {
      "provenance": []
    },
    "kernelspec": {
      "name": "python3",
      "display_name": "Python 3"
    },
    "language_info": {
      "name": "python"
    }
  },
  "cells": [
    {
      "cell_type": "markdown",
      "source": [
        "## Importing Keras libraries"
      ],
      "metadata": {
        "id": "qBW4l2RsDYxD"
      }
    },
    {
      "cell_type": "code",
      "source": [
        "import keras"
      ],
      "metadata": {
        "id": "nZpapuUzDbpA"
      },
      "execution_count": null,
      "outputs": []
    },
    {
      "cell_type": "markdown",
      "source": [
        "## Importing ImageDataGenerator from Keras"
      ],
      "metadata": {
        "id": "ot9Y9ReVFJxa"
      }
    },
    {
      "cell_type": "code",
      "source": [
        "from matplotlib import pyplot as plt\n",
        "from keras.preprocessing.image import ImageDataGenerator"
      ],
      "metadata": {
        "id": "a8FhxXBuFUP4"
      },
      "execution_count": null,
      "outputs": []
    }
  ]
}